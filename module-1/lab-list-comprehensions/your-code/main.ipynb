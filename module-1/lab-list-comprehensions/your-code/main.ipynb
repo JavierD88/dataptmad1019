{
 "cells": [
  {
   "cell_type": "markdown",
   "metadata": {},
   "source": [
    "# List Comprehensions Lab\n",
    "\n",
    "Complete the following set of exercises to solidify your knowledge of list comprehensions."
   ]
  },
  {
   "cell_type": "code",
   "execution_count": 1,
   "metadata": {},
   "outputs": [],
   "source": [
    "import os\n",
    "import numpy as np\n",
    "import pandas as pd"
   ]
  },
  {
   "cell_type": "markdown",
   "metadata": {},
   "source": [
    "### 1. Use a list comprehension to create and print a list of consecutive integers starting with 1 and ending with 50."
   ]
  },
  {
   "cell_type": "code",
   "execution_count": 2,
   "metadata": {},
   "outputs": [],
   "source": [
    "lst = [i for i in range(51)]"
   ]
  },
  {
   "cell_type": "code",
   "execution_count": 3,
   "metadata": {},
   "outputs": [
    {
     "name": "stdout",
     "output_type": "stream",
     "text": [
      "[0, 1, 2, 3, 4, 5, 6, 7, 8, 9, 10, 11, 12, 13, 14, 15, 16, 17, 18, 19, 20, 21, 22, 23, 24, 25, 26, 27, 28, 29, 30, 31, 32, 33, 34, 35, 36, 37, 38, 39, 40, 41, 42, 43, 44, 45, 46, 47, 48, 49, 50]\n"
     ]
    }
   ],
   "source": [
    "print(lst)"
   ]
  },
  {
   "cell_type": "markdown",
   "metadata": {},
   "source": [
    "### 2. Use a list comprehension to create and print a list of even numbers starting with 2 and ending with 200."
   ]
  },
  {
   "cell_type": "code",
   "execution_count": 4,
   "metadata": {},
   "outputs": [
    {
     "name": "stdout",
     "output_type": "stream",
     "text": [
      "[2, 4, 6, 8, 10, 12, 14, 16, 18, 20, 22, 24, 26, 28, 30, 32, 34, 36, 38, 40, 42, 44, 46, 48, 50, 52, 54, 56, 58, 60, 62, 64, 66, 68, 70, 72, 74, 76, 78, 80, 82, 84, 86, 88, 90, 92, 94, 96, 98, 100, 102, 104, 106, 108, 110, 112, 114, 116, 118, 120, 122, 124, 126, 128, 130, 132, 134, 136, 138, 140, 142, 144, 146, 148, 150, 152, 154, 156, 158, 160, 162, 164, 166, 168, 170, 172, 174, 176, 178, 180, 182, 184, 186, 188, 190, 192, 194, 196, 198, 200]\n"
     ]
    }
   ],
   "source": [
    "lst = [i for i in range(2,201,2)]\n",
    "print(lst)"
   ]
  },
  {
   "cell_type": "markdown",
   "metadata": {},
   "source": [
    "### 3. Use a list comprehension to create and print a list containing all elements of the 10 x 4 Numpy array below."
   ]
  },
  {
   "cell_type": "code",
   "execution_count": 5,
   "metadata": {},
   "outputs": [],
   "source": [
    "a = np.array([[0.84062117, 0.48006452, 0.7876326 , 0.77109654],\n",
    "       [0.44409793, 0.09014516, 0.81835917, 0.87645456],\n",
    "       [0.7066597 , 0.09610873, 0.41247947, 0.57433389],\n",
    "       [0.29960807, 0.42315023, 0.34452557, 0.4751035 ],\n",
    "       [0.17003563, 0.46843998, 0.92796258, 0.69814654],\n",
    "       [0.41290051, 0.19561071, 0.16284783, 0.97016248],\n",
    "       [0.71725408, 0.87702738, 0.31244595, 0.76615487],\n",
    "       [0.20754036, 0.57871812, 0.07214068, 0.40356048],\n",
    "       [0.12149553, 0.53222417, 0.9976855 , 0.12536346],\n",
    "       [0.80930099, 0.50962849, 0.94555126, 0.33364763]])"
   ]
  },
  {
   "cell_type": "code",
   "execution_count": 6,
   "metadata": {},
   "outputs": [],
   "source": [
    "lsta = [i for e in a for i in e]"
   ]
  },
  {
   "cell_type": "code",
   "execution_count": 7,
   "metadata": {},
   "outputs": [
    {
     "name": "stdout",
     "output_type": "stream",
     "text": [
      "[0.84062117, 0.48006452, 0.7876326, 0.77109654, 0.44409793, 0.09014516, 0.81835917, 0.87645456, 0.7066597, 0.09610873, 0.41247947, 0.57433389, 0.29960807, 0.42315023, 0.34452557, 0.4751035, 0.17003563, 0.46843998, 0.92796258, 0.69814654, 0.41290051, 0.19561071, 0.16284783, 0.97016248, 0.71725408, 0.87702738, 0.31244595, 0.76615487, 0.20754036, 0.57871812, 0.07214068, 0.40356048, 0.12149553, 0.53222417, 0.9976855, 0.12536346, 0.80930099, 0.50962849, 0.94555126, 0.33364763]\n"
     ]
    }
   ],
   "source": [
    "print(lsta)"
   ]
  },
  {
   "cell_type": "markdown",
   "metadata": {},
   "source": [
    "### 4. Add a condition to the list comprehension above so that only values greater than or equal to 0.5 are printed."
   ]
  },
  {
   "cell_type": "code",
   "execution_count": 8,
   "metadata": {},
   "outputs": [],
   "source": [
    "lista = [i for e in a for i in e if i>= 0.5]"
   ]
  },
  {
   "cell_type": "code",
   "execution_count": 9,
   "metadata": {},
   "outputs": [
    {
     "data": {
      "text/plain": [
       "[0.84062117,\n",
       " 0.7876326,\n",
       " 0.77109654,\n",
       " 0.81835917,\n",
       " 0.87645456,\n",
       " 0.7066597,\n",
       " 0.57433389,\n",
       " 0.92796258,\n",
       " 0.69814654,\n",
       " 0.97016248,\n",
       " 0.71725408,\n",
       " 0.87702738,\n",
       " 0.76615487,\n",
       " 0.57871812,\n",
       " 0.53222417,\n",
       " 0.9976855,\n",
       " 0.80930099,\n",
       " 0.50962849,\n",
       " 0.94555126]"
      ]
     },
     "execution_count": 9,
     "metadata": {},
     "output_type": "execute_result"
    }
   ],
   "source": [
    "lista"
   ]
  },
  {
   "cell_type": "markdown",
   "metadata": {},
   "source": [
    "### 5. Use a list comprehension to create and print a list containing all elements of the 5 x 2 x 3 Numpy array below."
   ]
  },
  {
   "cell_type": "code",
   "execution_count": 10,
   "metadata": {},
   "outputs": [],
   "source": [
    "b = np.array([[[0.55867166, 0.06210792, 0.08147297],\n",
    "        [0.82579068, 0.91512478, 0.06833034]],\n",
    "\n",
    "       [[0.05440634, 0.65857693, 0.30296619],\n",
    "        [0.06769833, 0.96031863, 0.51293743]],\n",
    "\n",
    "       [[0.09143215, 0.71893382, 0.45850679],\n",
    "        [0.58256464, 0.59005654, 0.56266457]],\n",
    "\n",
    "       [[0.71600294, 0.87392666, 0.11434044],\n",
    "        [0.8694668 , 0.65669313, 0.10708681]],\n",
    "\n",
    "       [[0.07529684, 0.46470767, 0.47984544],\n",
    "        [0.65368638, 0.14901286, 0.23760688]]])"
   ]
  },
  {
   "cell_type": "code",
   "execution_count": 11,
   "metadata": {},
   "outputs": [],
   "source": [
    "lstaa = [i for e in b for j in e for i in j]"
   ]
  },
  {
   "cell_type": "code",
   "execution_count": 12,
   "metadata": {},
   "outputs": [
    {
     "data": {
      "text/plain": [
       "[0.55867166,\n",
       " 0.06210792,\n",
       " 0.08147297,\n",
       " 0.82579068,\n",
       " 0.91512478,\n",
       " 0.06833034,\n",
       " 0.05440634,\n",
       " 0.65857693,\n",
       " 0.30296619,\n",
       " 0.06769833,\n",
       " 0.96031863,\n",
       " 0.51293743,\n",
       " 0.09143215,\n",
       " 0.71893382,\n",
       " 0.45850679,\n",
       " 0.58256464,\n",
       " 0.59005654,\n",
       " 0.56266457,\n",
       " 0.71600294,\n",
       " 0.87392666,\n",
       " 0.11434044,\n",
       " 0.8694668,\n",
       " 0.65669313,\n",
       " 0.10708681,\n",
       " 0.07529684,\n",
       " 0.46470767,\n",
       " 0.47984544,\n",
       " 0.65368638,\n",
       " 0.14901286,\n",
       " 0.23760688]"
      ]
     },
     "execution_count": 12,
     "metadata": {},
     "output_type": "execute_result"
    }
   ],
   "source": [
    "lstaa"
   ]
  },
  {
   "cell_type": "markdown",
   "metadata": {},
   "source": [
    "### 5. Add a condition to the list comprehension above so that the last value in each subarray is printed, but only if it is less than or equal to 0.5."
   ]
  },
  {
   "cell_type": "code",
   "execution_count": 13,
   "metadata": {},
   "outputs": [
    {
     "data": {
      "text/plain": [
       "[0.06210792,\n",
       " 0.08147297,\n",
       " 0.06833034,\n",
       " 0.05440634,\n",
       " 0.30296619,\n",
       " 0.06769833,\n",
       " 0.09143215,\n",
       " 0.45850679,\n",
       " 0.11434044,\n",
       " 0.10708681,\n",
       " 0.07529684,\n",
       " 0.46470767,\n",
       " 0.47984544,\n",
       " 0.14901286,\n",
       " 0.23760688]"
      ]
     },
     "execution_count": 13,
     "metadata": {},
     "output_type": "execute_result"
    }
   ],
   "source": [
    "lstaa1 = [i for e in b for j in e for i in j if i<=0.5]\n",
    "lstaa1"
   ]
  },
  {
   "cell_type": "markdown",
   "metadata": {},
   "source": [
    "### 6. Use a list comprehension to select and print the names of all CSV files in the */data* directory."
   ]
  },
  {
   "cell_type": "code",
   "execution_count": 14,
   "metadata": {},
   "outputs": [],
   "source": [
    "import csv"
   ]
  },
  {
   "cell_type": "code",
   "execution_count": 15,
   "metadata": {},
   "outputs": [],
   "source": [
    "directorio = '../data/'"
   ]
  },
  {
   "cell_type": "code",
   "execution_count": 16,
   "metadata": {},
   "outputs": [],
   "source": [
    "nombres = [i for i in os.listdir(directorio) if i[-4:] == '.csv']"
   ]
  },
  {
   "cell_type": "code",
   "execution_count": 17,
   "metadata": {
    "scrolled": true
   },
   "outputs": [
    {
     "data": {
      "text/plain": [
       "['sample_file_7.csv',\n",
       " 'sample_file_0.csv',\n",
       " 'sample_file_9.csv',\n",
       " 'sample_file_6.csv',\n",
       " 'sample_file_1.csv',\n",
       " 'sample_file_5.csv',\n",
       " 'sample_file_4.csv',\n",
       " 'sample_file_2.csv',\n",
       " 'sample_file_8.csv',\n",
       " 'sample_file_3.csv']"
      ]
     },
     "execution_count": 17,
     "metadata": {},
     "output_type": "execute_result"
    }
   ],
   "source": [
    "nombres"
   ]
  },
  {
   "cell_type": "markdown",
   "metadata": {},
   "source": [
    "### 7. Use a list comprehension and the Pandas `read_csv` and `concat` methods to read all CSV files in the */data* directory and combine them into a single data frame. Display the top 10 rows of the resulting data frame."
   ]
  },
  {
   "cell_type": "code",
   "execution_count": 18,
   "metadata": {},
   "outputs": [],
   "source": [
    "panda = [pd.read_csv(directorio + i) for i in os.listdir(directorio) if i[-4:] == '.csv']"
   ]
  },
  {
   "cell_type": "code",
   "execution_count": 19,
   "metadata": {},
   "outputs": [],
   "source": [
    "fata_frame = pd.concat(panda)"
   ]
  },
  {
   "cell_type": "code",
   "execution_count": 21,
   "metadata": {},
   "outputs": [
    {
     "data": {
      "text/html": [
       "<div>\n",
       "<style scoped>\n",
       "    .dataframe tbody tr th:only-of-type {\n",
       "        vertical-align: middle;\n",
       "    }\n",
       "\n",
       "    .dataframe tbody tr th {\n",
       "        vertical-align: top;\n",
       "    }\n",
       "\n",
       "    .dataframe thead th {\n",
       "        text-align: right;\n",
       "    }\n",
       "</style>\n",
       "<table border=\"1\" class=\"dataframe\">\n",
       "  <thead>\n",
       "    <tr style=\"text-align: right;\">\n",
       "      <th></th>\n",
       "      <th>0</th>\n",
       "      <th>1</th>\n",
       "      <th>2</th>\n",
       "      <th>3</th>\n",
       "      <th>4</th>\n",
       "      <th>5</th>\n",
       "      <th>6</th>\n",
       "      <th>7</th>\n",
       "      <th>8</th>\n",
       "      <th>9</th>\n",
       "      <th>10</th>\n",
       "      <th>11</th>\n",
       "      <th>12</th>\n",
       "      <th>13</th>\n",
       "      <th>14</th>\n",
       "      <th>15</th>\n",
       "      <th>16</th>\n",
       "      <th>17</th>\n",
       "      <th>18</th>\n",
       "      <th>19</th>\n",
       "    </tr>\n",
       "  </thead>\n",
       "  <tbody>\n",
       "    <tr>\n",
       "      <td>0</td>\n",
       "      <td>0.460281</td>\n",
       "      <td>0.308551</td>\n",
       "      <td>0.735894</td>\n",
       "      <td>0.054059</td>\n",
       "      <td>0.593642</td>\n",
       "      <td>0.397679</td>\n",
       "      <td>0.019922</td>\n",
       "      <td>0.855673</td>\n",
       "      <td>0.339445</td>\n",
       "      <td>0.895810</td>\n",
       "      <td>0.832431</td>\n",
       "      <td>0.553308</td>\n",
       "      <td>0.617711</td>\n",
       "      <td>0.841575</td>\n",
       "      <td>0.336094</td>\n",
       "      <td>0.951907</td>\n",
       "      <td>0.050986</td>\n",
       "      <td>0.856135</td>\n",
       "      <td>0.773953</td>\n",
       "      <td>0.295344</td>\n",
       "    </tr>\n",
       "    <tr>\n",
       "      <td>1</td>\n",
       "      <td>0.065851</td>\n",
       "      <td>0.736029</td>\n",
       "      <td>0.797730</td>\n",
       "      <td>0.692722</td>\n",
       "      <td>0.167764</td>\n",
       "      <td>0.839756</td>\n",
       "      <td>0.910186</td>\n",
       "      <td>0.643328</td>\n",
       "      <td>0.371559</td>\n",
       "      <td>0.674311</td>\n",
       "      <td>0.424815</td>\n",
       "      <td>0.279397</td>\n",
       "      <td>0.015081</td>\n",
       "      <td>0.788497</td>\n",
       "      <td>0.132391</td>\n",
       "      <td>0.766033</td>\n",
       "      <td>0.708510</td>\n",
       "      <td>0.752866</td>\n",
       "      <td>0.493862</td>\n",
       "      <td>0.577262</td>\n",
       "    </tr>\n",
       "    <tr>\n",
       "      <td>2</td>\n",
       "      <td>0.671323</td>\n",
       "      <td>0.747296</td>\n",
       "      <td>0.892328</td>\n",
       "      <td>0.732902</td>\n",
       "      <td>0.065608</td>\n",
       "      <td>0.262364</td>\n",
       "      <td>0.712417</td>\n",
       "      <td>0.764379</td>\n",
       "      <td>0.017461</td>\n",
       "      <td>0.131970</td>\n",
       "      <td>0.649451</td>\n",
       "      <td>0.902157</td>\n",
       "      <td>0.034188</td>\n",
       "      <td>0.840938</td>\n",
       "      <td>0.098536</td>\n",
       "      <td>0.957824</td>\n",
       "      <td>0.566209</td>\n",
       "      <td>0.655947</td>\n",
       "      <td>0.592733</td>\n",
       "      <td>0.002596</td>\n",
       "    </tr>\n",
       "    <tr>\n",
       "      <td>3</td>\n",
       "      <td>0.445478</td>\n",
       "      <td>0.523522</td>\n",
       "      <td>0.959355</td>\n",
       "      <td>0.348292</td>\n",
       "      <td>0.761805</td>\n",
       "      <td>0.301391</td>\n",
       "      <td>0.712240</td>\n",
       "      <td>0.945462</td>\n",
       "      <td>0.139241</td>\n",
       "      <td>0.105477</td>\n",
       "      <td>0.889501</td>\n",
       "      <td>0.160828</td>\n",
       "      <td>0.400774</td>\n",
       "      <td>0.770295</td>\n",
       "      <td>0.844655</td>\n",
       "      <td>0.772798</td>\n",
       "      <td>0.584262</td>\n",
       "      <td>0.807400</td>\n",
       "      <td>0.177419</td>\n",
       "      <td>0.926007</td>\n",
       "    </tr>\n",
       "    <tr>\n",
       "      <td>4</td>\n",
       "      <td>0.291399</td>\n",
       "      <td>0.551248</td>\n",
       "      <td>0.736542</td>\n",
       "      <td>0.163562</td>\n",
       "      <td>0.451149</td>\n",
       "      <td>0.888938</td>\n",
       "      <td>0.968465</td>\n",
       "      <td>0.396090</td>\n",
       "      <td>0.681679</td>\n",
       "      <td>0.390542</td>\n",
       "      <td>0.030394</td>\n",
       "      <td>0.944077</td>\n",
       "      <td>0.366139</td>\n",
       "      <td>0.078188</td>\n",
       "      <td>0.175482</td>\n",
       "      <td>0.232489</td>\n",
       "      <td>0.806964</td>\n",
       "      <td>0.904593</td>\n",
       "      <td>0.803629</td>\n",
       "      <td>0.792851</td>\n",
       "    </tr>\n",
       "  </tbody>\n",
       "</table>\n",
       "</div>"
      ],
      "text/plain": [
       "          0         1         2         3         4         5         6  \\\n",
       "0  0.460281  0.308551  0.735894  0.054059  0.593642  0.397679  0.019922   \n",
       "1  0.065851  0.736029  0.797730  0.692722  0.167764  0.839756  0.910186   \n",
       "2  0.671323  0.747296  0.892328  0.732902  0.065608  0.262364  0.712417   \n",
       "3  0.445478  0.523522  0.959355  0.348292  0.761805  0.301391  0.712240   \n",
       "4  0.291399  0.551248  0.736542  0.163562  0.451149  0.888938  0.968465   \n",
       "\n",
       "          7         8         9        10        11        12        13  \\\n",
       "0  0.855673  0.339445  0.895810  0.832431  0.553308  0.617711  0.841575   \n",
       "1  0.643328  0.371559  0.674311  0.424815  0.279397  0.015081  0.788497   \n",
       "2  0.764379  0.017461  0.131970  0.649451  0.902157  0.034188  0.840938   \n",
       "3  0.945462  0.139241  0.105477  0.889501  0.160828  0.400774  0.770295   \n",
       "4  0.396090  0.681679  0.390542  0.030394  0.944077  0.366139  0.078188   \n",
       "\n",
       "         14        15        16        17        18        19  \n",
       "0  0.336094  0.951907  0.050986  0.856135  0.773953  0.295344  \n",
       "1  0.132391  0.766033  0.708510  0.752866  0.493862  0.577262  \n",
       "2  0.098536  0.957824  0.566209  0.655947  0.592733  0.002596  \n",
       "3  0.844655  0.772798  0.584262  0.807400  0.177419  0.926007  \n",
       "4  0.175482  0.232489  0.806964  0.904593  0.803629  0.792851  "
      ]
     },
     "execution_count": 21,
     "metadata": {},
     "output_type": "execute_result"
    }
   ],
   "source": [
    "fata_frame.head()"
   ]
  },
  {
   "cell_type": "markdown",
   "metadata": {},
   "source": [
    "### 8. Use a list comprehension to select and print the column numbers for columns from the data set whose median is less than 0.48."
   ]
  },
  {
   "cell_type": "code",
   "execution_count": 22,
   "metadata": {},
   "outputs": [],
   "source": [
    "y = [i for i in fata_frame.columns if fata_frame[i].median() < 0.48]"
   ]
  },
  {
   "cell_type": "code",
   "execution_count": 23,
   "metadata": {},
   "outputs": [
    {
     "data": {
      "text/plain": [
       "['2', '9', '12', '14', '17']"
      ]
     },
     "execution_count": 23,
     "metadata": {},
     "output_type": "execute_result"
    }
   ],
   "source": [
    "y"
   ]
  },
  {
   "cell_type": "markdown",
   "metadata": {},
   "source": [
    "### 9. Use a list comprehension to add a new column (20) to the data frame whose values are the values in column 19 minus 0.1. Display the top 10 rows of the resulting data frame."
   ]
  },
  {
   "cell_type": "code",
   "execution_count": 26,
   "metadata": {},
   "outputs": [],
   "source": [
    "fata_frame['20'] = [i - 0.1 for i in fata_frame['19']]"
   ]
  },
  {
   "cell_type": "code",
   "execution_count": 27,
   "metadata": {},
   "outputs": [
    {
     "data": {
      "text/html": [
       "<div>\n",
       "<style scoped>\n",
       "    .dataframe tbody tr th:only-of-type {\n",
       "        vertical-align: middle;\n",
       "    }\n",
       "\n",
       "    .dataframe tbody tr th {\n",
       "        vertical-align: top;\n",
       "    }\n",
       "\n",
       "    .dataframe thead th {\n",
       "        text-align: right;\n",
       "    }\n",
       "</style>\n",
       "<table border=\"1\" class=\"dataframe\">\n",
       "  <thead>\n",
       "    <tr style=\"text-align: right;\">\n",
       "      <th></th>\n",
       "      <th>0</th>\n",
       "      <th>1</th>\n",
       "      <th>2</th>\n",
       "      <th>3</th>\n",
       "      <th>4</th>\n",
       "      <th>5</th>\n",
       "      <th>6</th>\n",
       "      <th>7</th>\n",
       "      <th>8</th>\n",
       "      <th>9</th>\n",
       "      <th>...</th>\n",
       "      <th>11</th>\n",
       "      <th>12</th>\n",
       "      <th>13</th>\n",
       "      <th>14</th>\n",
       "      <th>15</th>\n",
       "      <th>16</th>\n",
       "      <th>17</th>\n",
       "      <th>18</th>\n",
       "      <th>19</th>\n",
       "      <th>20</th>\n",
       "    </tr>\n",
       "  </thead>\n",
       "  <tbody>\n",
       "    <tr>\n",
       "      <td>0</td>\n",
       "      <td>0.460281</td>\n",
       "      <td>0.308551</td>\n",
       "      <td>0.735894</td>\n",
       "      <td>0.054059</td>\n",
       "      <td>0.593642</td>\n",
       "      <td>0.397679</td>\n",
       "      <td>0.019922</td>\n",
       "      <td>0.855673</td>\n",
       "      <td>0.339445</td>\n",
       "      <td>0.895810</td>\n",
       "      <td>...</td>\n",
       "      <td>0.553308</td>\n",
       "      <td>0.617711</td>\n",
       "      <td>0.841575</td>\n",
       "      <td>0.336094</td>\n",
       "      <td>0.951907</td>\n",
       "      <td>0.050986</td>\n",
       "      <td>0.856135</td>\n",
       "      <td>0.773953</td>\n",
       "      <td>0.295344</td>\n",
       "      <td>0.195344</td>\n",
       "    </tr>\n",
       "    <tr>\n",
       "      <td>1</td>\n",
       "      <td>0.065851</td>\n",
       "      <td>0.736029</td>\n",
       "      <td>0.797730</td>\n",
       "      <td>0.692722</td>\n",
       "      <td>0.167764</td>\n",
       "      <td>0.839756</td>\n",
       "      <td>0.910186</td>\n",
       "      <td>0.643328</td>\n",
       "      <td>0.371559</td>\n",
       "      <td>0.674311</td>\n",
       "      <td>...</td>\n",
       "      <td>0.279397</td>\n",
       "      <td>0.015081</td>\n",
       "      <td>0.788497</td>\n",
       "      <td>0.132391</td>\n",
       "      <td>0.766033</td>\n",
       "      <td>0.708510</td>\n",
       "      <td>0.752866</td>\n",
       "      <td>0.493862</td>\n",
       "      <td>0.577262</td>\n",
       "      <td>0.477262</td>\n",
       "    </tr>\n",
       "    <tr>\n",
       "      <td>2</td>\n",
       "      <td>0.671323</td>\n",
       "      <td>0.747296</td>\n",
       "      <td>0.892328</td>\n",
       "      <td>0.732902</td>\n",
       "      <td>0.065608</td>\n",
       "      <td>0.262364</td>\n",
       "      <td>0.712417</td>\n",
       "      <td>0.764379</td>\n",
       "      <td>0.017461</td>\n",
       "      <td>0.131970</td>\n",
       "      <td>...</td>\n",
       "      <td>0.902157</td>\n",
       "      <td>0.034188</td>\n",
       "      <td>0.840938</td>\n",
       "      <td>0.098536</td>\n",
       "      <td>0.957824</td>\n",
       "      <td>0.566209</td>\n",
       "      <td>0.655947</td>\n",
       "      <td>0.592733</td>\n",
       "      <td>0.002596</td>\n",
       "      <td>-0.097404</td>\n",
       "    </tr>\n",
       "    <tr>\n",
       "      <td>3</td>\n",
       "      <td>0.445478</td>\n",
       "      <td>0.523522</td>\n",
       "      <td>0.959355</td>\n",
       "      <td>0.348292</td>\n",
       "      <td>0.761805</td>\n",
       "      <td>0.301391</td>\n",
       "      <td>0.712240</td>\n",
       "      <td>0.945462</td>\n",
       "      <td>0.139241</td>\n",
       "      <td>0.105477</td>\n",
       "      <td>...</td>\n",
       "      <td>0.160828</td>\n",
       "      <td>0.400774</td>\n",
       "      <td>0.770295</td>\n",
       "      <td>0.844655</td>\n",
       "      <td>0.772798</td>\n",
       "      <td>0.584262</td>\n",
       "      <td>0.807400</td>\n",
       "      <td>0.177419</td>\n",
       "      <td>0.926007</td>\n",
       "      <td>0.826007</td>\n",
       "    </tr>\n",
       "    <tr>\n",
       "      <td>4</td>\n",
       "      <td>0.291399</td>\n",
       "      <td>0.551248</td>\n",
       "      <td>0.736542</td>\n",
       "      <td>0.163562</td>\n",
       "      <td>0.451149</td>\n",
       "      <td>0.888938</td>\n",
       "      <td>0.968465</td>\n",
       "      <td>0.396090</td>\n",
       "      <td>0.681679</td>\n",
       "      <td>0.390542</td>\n",
       "      <td>...</td>\n",
       "      <td>0.944077</td>\n",
       "      <td>0.366139</td>\n",
       "      <td>0.078188</td>\n",
       "      <td>0.175482</td>\n",
       "      <td>0.232489</td>\n",
       "      <td>0.806964</td>\n",
       "      <td>0.904593</td>\n",
       "      <td>0.803629</td>\n",
       "      <td>0.792851</td>\n",
       "      <td>0.692851</td>\n",
       "    </tr>\n",
       "  </tbody>\n",
       "</table>\n",
       "<p>5 rows × 21 columns</p>\n",
       "</div>"
      ],
      "text/plain": [
       "          0         1         2         3         4         5         6  \\\n",
       "0  0.460281  0.308551  0.735894  0.054059  0.593642  0.397679  0.019922   \n",
       "1  0.065851  0.736029  0.797730  0.692722  0.167764  0.839756  0.910186   \n",
       "2  0.671323  0.747296  0.892328  0.732902  0.065608  0.262364  0.712417   \n",
       "3  0.445478  0.523522  0.959355  0.348292  0.761805  0.301391  0.712240   \n",
       "4  0.291399  0.551248  0.736542  0.163562  0.451149  0.888938  0.968465   \n",
       "\n",
       "          7         8         9  ...        11        12        13        14  \\\n",
       "0  0.855673  0.339445  0.895810  ...  0.553308  0.617711  0.841575  0.336094   \n",
       "1  0.643328  0.371559  0.674311  ...  0.279397  0.015081  0.788497  0.132391   \n",
       "2  0.764379  0.017461  0.131970  ...  0.902157  0.034188  0.840938  0.098536   \n",
       "3  0.945462  0.139241  0.105477  ...  0.160828  0.400774  0.770295  0.844655   \n",
       "4  0.396090  0.681679  0.390542  ...  0.944077  0.366139  0.078188  0.175482   \n",
       "\n",
       "         15        16        17        18        19        20  \n",
       "0  0.951907  0.050986  0.856135  0.773953  0.295344  0.195344  \n",
       "1  0.766033  0.708510  0.752866  0.493862  0.577262  0.477262  \n",
       "2  0.957824  0.566209  0.655947  0.592733  0.002596 -0.097404  \n",
       "3  0.772798  0.584262  0.807400  0.177419  0.926007  0.826007  \n",
       "4  0.232489  0.806964  0.904593  0.803629  0.792851  0.692851  \n",
       "\n",
       "[5 rows x 21 columns]"
      ]
     },
     "execution_count": 27,
     "metadata": {},
     "output_type": "execute_result"
    }
   ],
   "source": [
    "fata_frame.head()"
   ]
  },
  {
   "cell_type": "markdown",
   "metadata": {},
   "source": [
    "### 10. Use a list comprehension to extract and print all values from the data set that are between 0.7 and 0.75."
   ]
  },
  {
   "cell_type": "code",
   "execution_count": 29,
   "metadata": {},
   "outputs": [],
   "source": [
    "p = [i for e in fata_frame.columns for i in fata_frame[e] if i>=0.7 and i<= 0.75]\n"
   ]
  },
  {
   "cell_type": "code",
   "execution_count": 30,
   "metadata": {},
   "outputs": [
    {
     "name": "stdout",
     "output_type": "stream",
     "text": [
      "[0.7347510852128797, 0.7280006345208285, 0.7025657075988269, 0.7132714209987683, 0.736029494090402, 0.7472962776291713, 0.7258310816144985, 0.7358941798147411, 0.7365416322783028, 0.7343092314001137, 0.7088042362916818, 0.7329024831531535, 0.7023481768180954, 0.7476323136755818, 0.7008930873050235, 0.7133695725698419, 0.7150799992177622, 0.7173964318670598, 0.7357618655811269, 0.7268545088531969, 0.7013619954419494, 0.7032248108904495, 0.7124169515124726, 0.71223975981198, 0.7306642125209889, 0.7383982036983279, 0.7298115760258881, 0.7051334608870933, 0.7321333453970806, 0.7178166705957928, 0.7374449181749492, 0.7159290265157912, 0.7294980584878026, 0.7215147068185102, 0.7111584953876777, 0.7209375615129192, 0.7045750112959754, 0.7303553716733908, 0.7396561066717461, 0.7133690799930356, 0.7390312927111312, 0.7356923324968598, 0.7078738356977186, 0.7321533684342264, 0.7085098152301276, 0.7490680818183477, 0.7130781095091867, 0.7264121114538001, 0.7196096371031628, 0.7393833032570581, 0.7244863338885654, 0.7274869207330491, 0.7033930409580709, 0.7376946446827494]\n"
     ]
    }
   ],
   "source": [
    "print(p)"
   ]
  },
  {
   "cell_type": "code",
   "execution_count": null,
   "metadata": {},
   "outputs": [],
   "source": []
  }
 ],
 "metadata": {
  "kernelspec": {
   "display_name": "Python 3",
   "language": "python",
   "name": "python3"
  },
  "language_info": {
   "codemirror_mode": {
    "name": "ipython",
    "version": 3
   },
   "file_extension": ".py",
   "mimetype": "text/x-python",
   "name": "python",
   "nbconvert_exporter": "python",
   "pygments_lexer": "ipython3",
   "version": "3.7.4"
  }
 },
 "nbformat": 4,
 "nbformat_minor": 2
}
